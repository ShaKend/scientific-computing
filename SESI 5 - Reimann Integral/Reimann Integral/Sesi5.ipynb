{
 "cells": [
  {
   "cell_type": "code",
   "execution_count": 9,
   "metadata": {},
   "outputs": [],
   "source": [
    "import numpy"
   ]
  },
  {
   "cell_type": "code",
   "execution_count": 10,
   "metadata": {},
   "outputs": [],
   "source": [
    "def f(x):\n",
    "    return x**2 - 5 \n",
    "# x^2 - 5 artinya"
   ]
  },
  {
   "cell_type": "code",
   "execution_count": 11,
   "metadata": {},
   "outputs": [
    {
     "name": "stdout",
     "output_type": "stream",
     "text": [
      "Lebar Kotak = 0.75\n",
      "x = [2.   2.75 3.5  4.25 5.  ], y = [-1.      2.5625  7.25   13.0625 20.    ]\n"
     ]
    }
   ],
   "source": [
    "# Range Luas\n",
    "a = 2\n",
    "b = 5\n",
    "\n",
    "# Jumlah kota -> kotak + 1 (pakai titik)\n",
    "n = 5\n",
    "\n",
    "# Lebar kotak\n",
    "lebar_kotak = (b-a) / (n-1) # (5-2) / (5-1)\n",
    "\n",
    "# Tentukan letak-letak titik x\n",
    "x = numpy.linspace(a, b, n) # pake fungsi numpy, dr 2 - 5 akan buat 5 titik\n",
    "\n",
    "# Tentuin y per x\n",
    "y = f(x)\n",
    "\n",
    "print(f'Lebar Kotak = {lebar_kotak}')\n",
    "print(f'x = {x}, y = {y}')"
   ]
  },
  {
   "cell_type": "code",
   "execution_count": 18,
   "metadata": {},
   "outputs": [
    {
     "name": "stdout",
     "output_type": "stream",
     "text": [
      "Left Reimann = 16.40625\n",
      "\n",
      "Right Reimann = 32.15625\n",
      "\n",
      "Midpoint Reimann = 23.859375\n"
     ]
    }
   ],
   "source": [
    "# Hitung per rule (left, mid, right)\n",
    "Left_reimannn = lebar_kotak * sum(y[:n-1]) # Rekursif, n nya 4, kalo mw 3 doang brrti n-1\n",
    "Right_reimann = lebar_kotak * sum(y[1:n]) # Slicing dr 1 ampe akhir, ngeskip paling awal si 0\n",
    "\n",
    "mid_x = (x[:n-1] + x[1:n]) / 2\n",
    "mid_y = f(mid_x)\n",
    "\n",
    "midpoint_reimann = lebar_kotak * sum(mid_y)\n",
    "\n",
    "print(f'Left Reimann = {Left_reimannn}')\n",
    "print()\n",
    "print(f'Right Reimann = {Right_reimann}')\n",
    "print()\n",
    "print(f'Midpoint Reimann = {midpoint_reimann}')"
   ]
  }
 ],
 "metadata": {
  "kernelspec": {
   "display_name": "scientific_computing",
   "language": "python",
   "name": "python3"
  },
  "language_info": {
   "codemirror_mode": {
    "name": "ipython",
    "version": 3
   },
   "file_extension": ".py",
   "mimetype": "text/x-python",
   "name": "python",
   "nbconvert_exporter": "python",
   "pygments_lexer": "ipython3",
   "version": "3.7.6"
  },
  "orig_nbformat": 4
 },
 "nbformat": 4,
 "nbformat_minor": 2
}
