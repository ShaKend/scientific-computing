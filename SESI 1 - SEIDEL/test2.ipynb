{
 "cells": [
  {
   "cell_type": "code",
   "execution_count": null,
   "metadata": {},
   "outputs": [],
   "source": [
    "import numpy as np;\n"
   ]
  },
  {
   "cell_type": "code",
   "execution_count": null,
   "metadata": {},
   "outputs": [],
   "source": [
    "def gauss(x):\n",
    "    x = np.array(x);\n",
    "    \n",
    "    diag = np.diag(np.abs(x));\n",
    "    print(f\"diagonal: {diag}\");\n",
    "    \n",
    "    #0 = column\n",
    "    #1 = row\n",
    "    off_diag = np.sum(np.abs(x), axis = 1)"
   ]
  }
 ],
 "metadata": {
  "kernelspec": {
   "display_name": "scientific_computing",
   "language": "python",
   "name": "python3"
  },
  "language_info": {
   "name": "python",
   "version": "3.7.6"
  }
 },
 "nbformat": 4,
 "nbformat_minor": 2
}
