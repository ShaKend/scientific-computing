{
 "cells": [
  {
   "cell_type": "code",
   "execution_count": 38,
   "metadata": {},
   "outputs": [],
   "source": [
    "# Bisection: 2 titik\n",
    "# jika ada nilai a & b (a= positif, b = negatif)\n",
    "# maka ada nilai c yang 0 diantaranya\n",
    "\n",
    "# a = 2 y = -1    [negatip]\n",
    "# b = 5 y = 20    [positip]\n",
    "\n",
    "# c1 = (a+b) / 2\n",
    "#    = (2+5) / 2\n",
    "# c1 = 3.5 -> y = 7.25 [positif] -> ganti nilai b\n",
    "\n",
    "# c2 = (a+c1) / 2\n",
    "#    = (2+3.5) / 2\n",
    "# c2 = 2.25 -> y = 0.0625 [Root]"
   ]
  },
  {
   "cell_type": "code",
   "execution_count": 39,
   "metadata": {},
   "outputs": [],
   "source": [
    "# Bisection\n",
    "\n",
    "import numpy as np"
   ]
  },
  {
   "cell_type": "code",
   "execution_count": 40,
   "metadata": {},
   "outputs": [],
   "source": [
    "def f(x):\n",
    "    return x ** 2 - 5           # x^2 - 5"
   ]
  },
  {
   "cell_type": "code",
   "execution_count": 41,
   "metadata": {},
   "outputs": [],
   "source": [
    "def bisection(a, b, tolerance = 0.1):\n",
    "\n",
    "    if (np.sign(f(a)) == np.sign(f(b))):\n",
    "        # Positif = 1, Negatif = 0\n",
    "\n",
    "        print('Invalid coordinate')\n",
    "        return\n",
    "    \n",
    "    c = (a+b) / 2\n",
    "\n",
    "    # Cek nilai Yc = root [Mendekati 0]\n",
    "    if (np.abs(f(c)) < tolerance):\n",
    "        print(f'Root = {c}')\n",
    "\n",
    "    elif (np.sign(f(c)) == np.sign(f(a))):\n",
    "        bisection(c,b)\n",
    "\n",
    "    elif (np.sign(f(c)) == np.sign(f(b))):\n",
    "        bisection(a,c)  "
   ]
  },
  {
   "cell_type": "code",
   "execution_count": 42,
   "metadata": {},
   "outputs": [
    {
     "name": "stdout",
     "output_type": "stream",
     "text": [
      "Root = 2.234375\n"
     ]
    }
   ],
   "source": [
    "bisection(2, 5)"
   ]
  },
  {
   "cell_type": "code",
   "execution_count": 43,
   "metadata": {},
   "outputs": [],
   "source": [
    "# Newton Raphson\n",
    "def f(x):\n",
    "    return x ** 2 - 5\n",
    "\n",
    "def g(x):\n",
    "    return 2 * x"
   ]
  },
  {
   "cell_type": "code",
   "execution_count": 44,
   "metadata": {},
   "outputs": [],
   "source": [
    "def newton_raphson(x0, tolerance = 0.1, iter = 1):\n",
    "\n",
    "    # Dapatkan nilai x1\n",
    "    x1 = x0 - (f(x0) / g(x0))\n",
    "\n",
    "    # Cek Y dari x1 apakah udah mendekati 0 / dibawah tolerance\n",
    "    if (np.abs(f(x1)) < tolerance):\n",
    "        print(f'Root = {x1}')\n",
    "        return\n",
    "    \n",
    "    print(f'Iteration-{iter}: {x1}')\n",
    "\n",
    "    # Update nilai x0 dan iterasi ulang\n",
    "    newton_raphson(x1, iter = iter + 1)"
   ]
  },
  {
   "cell_type": "code",
   "execution_count": 45,
   "metadata": {},
   "outputs": [
    {
     "name": "stdout",
     "output_type": "stream",
     "text": [
      "Iteration-1: 10.125\n",
      "Iteration-2: 5.309413580246914\n",
      "Iteration-3: 3.1255685834674476\n",
      "Iteration-4: 2.3626387608449235\n",
      "Root = 2.2394582891001273\n"
     ]
    }
   ],
   "source": [
    "newton_raphson(20)"
   ]
  },
  {
   "cell_type": "code",
   "execution_count": 48,
   "metadata": {},
   "outputs": [
    {
     "name": "stdout",
     "output_type": "stream",
     "text": [
      "Invalid coordinate\n",
      "Root = -1.318603515625\n",
      "Root = -1.31591796875\n",
      "Root = -1.3203125\n",
      "Root = -1.318603515625\n",
      "Invalid coordinate\n",
      "Root = -1.3193359375\n",
      "\n",
      "\n",
      "\n",
      "Iteration-1: 3.330357142857143\n",
      "Iteration-2: 2.7705278067251076\n",
      "Iteration-3: 2.3014692834655897\n",
      "Iteration-4: 1.9076486911265778\n",
      "Iteration-5: 1.5780738506315775\n",
      "Iteration-6: 1.3101344278134677\n",
      "Iteration-7: 1.1168277838634215\n",
      "Iteration-8: 1.0204619280744585\n",
      "Root = 1.0006965918207418\n"
     ]
    }
   ],
   "source": [
    "# Latihan Soal dari aslab :\n",
    "\n",
    "# No 2 - bisection\n",
    "def f(x):\n",
    "    return 10 * x ** 3 + 8 * x ** 2 + 9\n",
    "\n",
    "def bisection(a, b, tolerance = 0.1):\n",
    "\n",
    "    if (np.sign(f(a)) == np.sign(f(b))):\n",
    "        # Positif = 1, Negatif = 0\n",
    "\n",
    "        print('Invalid coordinate')\n",
    "        return\n",
    "    \n",
    "    c = (a+b) / 2\n",
    "\n",
    "    # Cek nilai Yc = root [Mendekati 0]\n",
    "    if (np.abs(f(c)) < tolerance):\n",
    "        print(f'Root = {c}')\n",
    "\n",
    "    elif (np.sign(f(c)) == np.sign(f(a))):\n",
    "        bisection(c,b)\n",
    "\n",
    "    elif (np.sign(f(c)) == np.sign(f(b))):\n",
    "        bisection(a,c) \n",
    "\n",
    "\n",
    "bisection(3,4)\n",
    "bisection(-10,17)\n",
    "bisection(10,-15)\n",
    "bisection(-2,4)\n",
    "bisection(12,-5)\n",
    "bisection(-8,-13)\n",
    "bisection(7,-21)\n",
    "\n",
    "print(\"\")\n",
    "print(\"\")\n",
    "print(\"\")\n",
    "\n",
    "# Soal No 1 - Newton Raphson\n",
    "\n",
    "def f(x):\n",
    "    return x ** 6 + 2 * x ** 2 - 3\n",
    "def g(x):\n",
    "    return 6 * x ** 5 + 4 * x\n",
    "\n",
    "def newton_raphson(x0, tolerance = 0.01, iter = 1):\n",
    "\n",
    "    # Dapatkan nilai x1\n",
    "    x1 = x0 - (f(x0) / g(x0))\n",
    "\n",
    "    # Cek Y dari x1 apakah udah mendekati 0 / dibawah tolerance\n",
    "    if (np.abs(f(x1)) < tolerance):\n",
    "        print(f'Root = {x1}')\n",
    "        return\n",
    "    \n",
    "    print(f'Iteration-{iter}: {x1}')\n",
    "\n",
    "    # Update nilai x0 dan iterasi ulang\n",
    "    newton_raphson(x1, iter = iter + 1)\n",
    "\n",
    "newton_raphson(4)"
   ]
  },
  {
   "cell_type": "code",
   "execution_count": null,
   "metadata": {},
   "outputs": [],
   "source": []
  }
 ],
 "metadata": {
  "kernelspec": {
   "display_name": "scientific_computing",
   "language": "python",
   "name": "python3"
  },
  "language_info": {
   "codemirror_mode": {
    "name": "ipython",
    "version": 3
   },
   "file_extension": ".py",
   "mimetype": "text/x-python",
   "name": "python",
   "nbconvert_exporter": "python",
   "pygments_lexer": "ipython3",
   "version": "3.7.6"
  },
  "orig_nbformat": 4
 },
 "nbformat": 4,
 "nbformat_minor": 2
}
